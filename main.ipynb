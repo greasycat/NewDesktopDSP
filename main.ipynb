{
 "cells": [
  {
   "cell_type": "code",
   "source": [
    "# Remove commenting for colab\n",
    "#!pip install similaritymeasures"
   ],
   "metadata": {
    "id": "L5fJ-UhrF0_D",
    "colab": {
     "base_uri": "https://localhost:8080/"
    },
    "executionInfo": {
     "status": "ok",
     "timestamp": 1685403000063,
     "user_tz": 420,
     "elapsed": 4365,
     "user": {
      "displayName": "Carol He",
      "userId": "14348936873790010342"
     }
    },
    "outputId": "d4a87b7d-0dd8-4388-b0f5-b75cf8421eeb"
   },
   "execution_count": 2,
   "outputs": [
    {
     "output_type": "stream",
     "name": "stdout",
     "text": [
      "Looking in indexes: https://pypi.org/simple, https://us-python.pkg.dev/colab-wheels/public/simple/\n",
      "Collecting similaritymeasures\n",
      "  Downloading similaritymeasures-0.7.0.tar.gz (401 kB)\n",
      "\u001B[2K     \u001B[90m━━━━━━━━━━━━━━━━━━━━━━━━━━━━━━━━━━━━━━━\u001B[0m \u001B[32m401.2/401.2 kB\u001B[0m \u001B[31m8.5 MB/s\u001B[0m eta \u001B[36m0:00:00\u001B[0m\n",
      "\u001B[?25h  Preparing metadata (setup.py) ... \u001B[?25l\u001B[?25hdone\n",
      "Requirement already satisfied: numpy>=1.14.0 in /usr/local/lib/python3.10/dist-packages (from similaritymeasures) (1.22.4)\n",
      "Requirement already satisfied: scipy>=0.19.0 in /usr/local/lib/python3.10/dist-packages (from similaritymeasures) (1.10.1)\n",
      "Building wheels for collected packages: similaritymeasures\n",
      "  Building wheel for similaritymeasures (setup.py) ... \u001B[?25l\u001B[?25hdone\n",
      "  Created wheel for similaritymeasures: filename=similaritymeasures-0.7.0-py3-none-any.whl size=15452 sha256=16db5927ef7e4c67792322fb48e163daa0b69813b81fc17a02ee68c43c370a84\n",
      "  Stored in directory: /root/.cache/pip/wheels/24/a6/80/6f1676caf08ab1b69d74c8a727c96fdd3903d891672b415008\n",
      "Successfully built similaritymeasures\n",
      "Installing collected packages: similaritymeasures\n",
      "Successfully installed similaritymeasures-0.7.0\n"
     ]
    }
   ]
  },
  {
   "cell_type": "code",
   "execution_count": null,
   "outputs": [],
   "source": [
    "# Remove commenting for colab\n",
    "#from google.colab import drive\n",
    "#drive.mount('/content/drive')"
   ],
   "metadata": {
    "collapsed": false
   }
  },
  {
   "cell_type": "code",
   "source": [
    "# Remove commenting for colab\n",
    "#cd /content/drive/MyDrive/Hegarty Lab RA Folder/SilctonDSPSHQ-22Summer/NewDesktopDSPDataProcessing"
   ],
   "metadata": {
    "colab": {
     "base_uri": "https://localhost:8080/"
    },
    "id": "I1yhY71zDKAr",
    "executionInfo": {
     "status": "ok",
     "timestamp": 1685404228562,
     "user_tz": 420,
     "elapsed": 5,
     "user": {
      "displayName": "Carol He",
      "userId": "14348936873790010342"
     }
    },
    "outputId": "76155333-3073-411a-9c1e-ce5778d2a1db"
   },
   "execution_count": 2,
   "outputs": [
    {
     "output_type": "stream",
     "name": "stdout",
     "text": [
      "/content/drive/MyDrive/Hegarty Lab RA Folder/SilctonDSPSHQ-22Summer/NewDesktopDSPDataProcessing\n"
     ]
    }
   ]
  },
  {
   "cell_type": "code",
   "source": [
    "from analysis import Loader, Constants\n",
    "from analysis import MovementAnalyzer, RotationAnalyzer\n",
    "import pandas as pd\n",
    "import numpy as np\n",
    "from analysis import ShortcutMap, Strategy\n",
    "import random"
   ],
   "metadata": {
    "id": "21QzX3F7CwXV",
    "executionInfo": {
     "status": "ok",
     "timestamp": 1685404230380,
     "user_tz": 420,
     "elapsed": 269,
     "user": {
      "displayName": "Carol He",
      "userId": "14348936873790010342"
     }
    },
    "ExecuteTime": {
     "end_time": "2023-07-19T18:10:43.504417300Z",
     "start_time": "2023-07-19T18:10:43.490815400Z"
    }
   },
   "execution_count": 1,
   "outputs": []
  },
  {
   "cell_type": "code",
   "source": [
    "pd.set_option('display.max_column', 500)\n",
    "\n",
    "constant = Constants(alt=False)\n",
    "\n",
    "loader = Loader(constant, data_dir=\"data\", extra_dir=\"extra\", image_dir=\"images\")\n",
    "loader.load(learning=True)"
   ],
   "metadata": {
    "colab": {
     "base_uri": "https://localhost:8080/"
    },
    "id": "LWPaufJbDSv3",
    "executionInfo": {
     "status": "ok",
     "timestamp": 1685403126438,
     "user_tz": 420,
     "elapsed": 90045,
     "user": {
      "displayName": "Carol He",
      "userId": "14348936873790010342"
     }
    },
    "outputId": "953a5035-3e7d-4e1a-89a1-b80446ba3193",
    "ExecuteTime": {
     "end_time": "2023-07-19T18:10:45.544598500Z",
     "start_time": "2023-07-19T18:10:45.036873Z"
    }
   },
   "execution_count": 2,
   "outputs": []
  },
  {
   "cell_type": "code",
   "execution_count": 3,
   "outputs": [
    {
     "name": "stdout",
     "output_type": "stream",
     "text": [
      "ShortcutMap: Loaded 12 objects\n",
      "Saving shortest distances to shortcut_path_1.csv\n",
      "ShortcutMap: Loaded 12 objects\n",
      "Saving shortest distances to learning_paths.csv\n",
      "Saving shortest distances to reverse_learning_paths.csv\n"
     ]
    }
   ],
   "source": [
    "\n",
    "shortcut_map = ShortcutMap(constant, \"extra/shortcut_walls_1.csv\", \"extra/objects_1.csv\", \"shortcut_path_1.csv\")\n",
    "learning_map = ShortcutMap(constant, \"extra/learning_walls_1.csv\", \"extra/objects_1.csv\", learning=True)\n",
    "\n",
    "strategy = Strategy(\"extra/strategy_map_1.txt\", \"extra/strategy_landmarks_1.txt\")\n"
   ],
   "metadata": {
    "collapsed": false,
    "ExecuteTime": {
     "end_time": "2023-07-19T18:10:47.620760800Z",
     "start_time": "2023-07-19T18:10:47.430666400Z"
    }
   }
  },
  {
   "cell_type": "code",
   "source": [
    "# Currently the movement analyzer can only handle normal (not alternative) trials, will add that later this week\n",
    "movement_analyzer = MovementAnalyzer(loader, shortcut_map=shortcut_map, learning_map=learning_map, strategy=strategy)\n",
    "\n",
    "# rotation analyzer gives the absolute angular error for each trial (both normal and alternative)"
   ],
   "metadata": {
    "id": "wqzVQE94DYd5",
    "ExecuteTime": {
     "start_time": "2023-05-30T16:00:50.919725Z",
     "end_time": "2023-05-30T16:00:50.928724Z"
    },
    "executionInfo": {
     "status": "ok",
     "timestamp": 1685403136469,
     "user_tz": 420,
     "elapsed": 1053,
     "user": {
      "displayName": "Carol He",
      "userId": "14348936873790010342"
     }
    }
   },
   "execution_count": 3,
   "outputs": []
  },
  {
   "cell_type": "code",
   "source": [
    "efficiencies = movement_analyzer.calculate_efficiency_for_all_subjects()\n",
    "#print(efficiencies)\n",
    "\n",
    "failures = movement_analyzer.calculate_failure_for_all_subjects()\n",
    "#print(failures)"
   ],
   "metadata": {
    "colab": {
     "base_uri": "https://localhost:8080/"
    },
    "id": "_YCKf7rk-UVJ",
    "executionInfo": {
     "status": "ok",
     "timestamp": 1685403147949,
     "user_tz": 420,
     "elapsed": 10471,
     "user": {
      "displayName": "Carol He",
      "userId": "14348936873790010342"
     }
    },
    "outputId": "2a979c61-7292-4eec-ed72-7e4848838129"
   },
   "execution_count": 0,
   "outputs": []
  },
  {
   "cell_type": "code",
   "execution_count": 5,
   "outputs": [
    {
     "name": "stdout",
     "output_type": "stream",
     "text": [
      "               3          4          5           6           7          8    \n",
      "AB04KO  11.331300    6.27880   27.20580  153.112460   78.058450  101.97802  \\\n",
      "ab25fa  77.062400    8.50247    4.45858    6.455700    4.868800   24.82810   \n",
      "AL07ME  23.620700   63.71260   38.44200   38.358350   23.547154   54.65460   \n",
      "AL15MA  63.391210   70.76240  132.92815    0.594300  111.602900   53.78100   \n",
      "AN15PO   9.542070   93.07804   31.58800   49.323980   80.785600    0.27080   \n",
      "...           ...        ...        ...         ...         ...        ...   \n",
      "VA17HA  66.997170   25.57110   57.02920    5.781200   60.578100   53.55799   \n",
      "VA25JI  24.597388   55.42433   55.72409   98.662300    5.118800    8.77880   \n",
      "XI03ME  77.642000   93.08550   83.67390   55.425984   80.962400   18.35460   \n",
      "XI31SH  13.444100   36.30827   23.48130    4.320700   23.776100   16.09141   \n",
      "YI11LI   8.728700  156.66244   50.62800   18.611980   12.162000   62.62391   \n",
      "\n",
      "                9           10         11         12         13        14   \n",
      "AB04KO    3.397000   54.741310  24.592000  109.78531  170.47560  17.67340  \\\n",
      "ab25fa   29.158310    6.123400  51.035500    1.19202    0.92880  18.56200   \n",
      "AL07ME   59.925970    8.958450  11.678800    3.57420   70.76198  23.11450   \n",
      "AL15MA  100.611880   50.023930  74.125970   34.94190  100.92660   8.67570   \n",
      "AN15PO   14.631200   94.625870  45.173400    2.84151   64.30835  22.95235   \n",
      "...            ...         ...        ...        ...        ...       ...   \n",
      "VA17HA   80.662060   55.773950  57.258354  165.57580   66.88560  47.82390   \n",
      "VA25JI    8.476000   11.658040  46.312000    9.82340   17.29550  28.03811   \n",
      "XI03ME   35.738000   40.058400  12.944200  162.22661   31.29761  38.52389   \n",
      "XI31SH    6.321200   14.514600  49.297120   17.66188   33.14540   6.34201   \n",
      "YI11LI   19.047621  128.974372  65.879200   42.29141    5.09710  11.44420   \n",
      "\n",
      "               15         16         17          18         19         20   \n",
      "AB04KO   99.81198   42.42910   58.61190   26.154700  114.62413  89.752390  \\\n",
      "ab25fa    3.02390    2.02080   11.70290   19.204600   81.47587  17.773887   \n",
      "AL07ME   13.86890   16.47200    8.80580   20.873905    1.67390  11.252420   \n",
      "AL15MA   58.16210  139.72930   13.32870   47.352420   96.64175  53.454700   \n",
      "AN15PO  162.72420    3.00570    6.48770   12.978800   60.86198   9.802900   \n",
      "...           ...        ...        ...         ...        ...        ...   \n",
      "VA17HA   46.82340    4.20570  112.72403  157.112240   43.10460  21.837950   \n",
      "VA25JI   23.70241    9.46450    0.62430   42.878100    5.35570  17.608490   \n",
      "XI03ME  137.21880    4.63793   87.87920   35.308550   64.42110   1.828100   \n",
      "XI31SH   10.02190   19.60229   49.28800    7.174300   47.82599   3.473400   \n",
      "YI11LI   68.17380   70.69550   50.57403   62.085500   17.69172  65.468780   \n",
      "\n",
      "              21          22  \n",
      "AB04KO  55.82402   72.573800  \n",
      "ab25fa  17.63798   12.824300  \n",
      "AL07ME  21.73800   20.323400  \n",
      "AL15MA  27.52610  162.835440  \n",
      "AN15PO  19.85460   12.076100  \n",
      "...          ...         ...  \n",
      "VA17HA  74.70249   31.691410  \n",
      "VA25JI   2.77910    6.691760  \n",
      "XI03ME  14.12430   68.097110  \n",
      "XI31SH  14.73770   20.123882  \n",
      "YI11LI  17.45800   22.373400  \n",
      "\n",
      "[73 rows x 20 columns]\n"
     ]
    }
   ],
   "source": [
    "\n",
    "rotation_analyzer = RotationAnalyzer(loader)\n",
    "errors = rotation_analyzer.calculate_estimation_error_for_all_subjects(3, 23)\n",
    "errors = pd.DataFrame(errors).transpose()\n",
    "print(errors)"
   ],
   "metadata": {
    "collapsed": false,
    "ExecuteTime": {
     "end_time": "2023-07-19T18:10:54.708795Z",
     "start_time": "2023-07-19T18:10:54.683796200Z"
    }
   }
  },
  {
   "cell_type": "code",
   "execution_count": 6,
   "outputs": [
    {
     "name": "stdout",
     "output_type": "stream",
     "text": [
      "For column 0:\n",
      "'0-60' is the largest bin for column 0\n",
      "\n",
      "For column 1:\n",
      "'0-60' is the largest bin for column 1\n",
      "\n",
      "For column 2:\n",
      "'0-60' is the largest bin for column 2\n",
      "\n",
      "For column 3:\n",
      "'0-60' is the largest bin for column 3\n",
      "\n",
      "For column 4:\n",
      "'0-60' is the largest bin for column 4\n",
      "\n",
      "For column 5:\n",
      "'0-60' is the largest bin for column 5\n",
      "\n",
      "For column 6:\n",
      "'0-60' is the largest bin for column 6\n",
      "\n",
      "For column 7:\n",
      "'0-60' is the largest bin for column 7\n",
      "\n",
      "For column 8:\n",
      "'0-60' is the largest bin for column 8\n",
      "\n",
      "For column 9:\n",
      "'0-60' is the largest bin for column 9\n",
      "\n",
      "For column 10:\n",
      "'0-60' is the largest bin for column 10\n",
      "\n",
      "For column 11:\n",
      "'0-60' is the largest bin for column 11\n",
      "\n",
      "For column 12:\n",
      "'0-60' is the largest bin for column 12\n",
      "\n",
      "For column 13:\n",
      "'0-60' is the largest bin for column 13\n",
      "\n",
      "For column 14:\n",
      "'0-60' is the largest bin for column 14\n",
      "\n",
      "For column 15:\n",
      "'0-60' is the largest bin for column 15\n",
      "\n",
      "For column 16:\n",
      "'0-60' is the largest bin for column 16\n",
      "\n",
      "For column 17:\n",
      "'0-60' is the largest bin for column 17\n",
      "\n",
      "For column 18:\n",
      "'0-60' is the largest bin for column 18\n",
      "\n",
      "For column 19:\n",
      "'0-60' is the largest bin for column 19\n",
      "\n"
     ]
    }
   ],
   "source": [
    "# Check if the error is correctly distributed\n",
    "import pandas as pd\n",
    "\n",
    "# assuming errors is your dataframe and the third column contains the data\n",
    "bin_ranges = [0, 60, 120, 180, 240, 300, 330]  # Define bin ranges\n",
    "bin_names = ['0-60', '60-120', '120-180', '180-240', '240-300', '300-330']  # Define bin names\n",
    "\n",
    "for i in range(20):  # For each of the first 20 columns\n",
    "    errors[f'bin_range_{i}'] = pd.cut(errors.iloc[:, i], bins=bin_ranges, labels=bin_names, include_lowest=True)\n",
    "    bin_counts = errors[f'bin_range_{i}'].value_counts().sort_index()\n",
    "\n",
    "    print(f\"For column {i}:\")\n",
    "    # Check if '0-60' is the largest bin\n",
    "    if bin_counts.idxmax() == '0-60':\n",
    "        print(f\"'0-60' is the largest bin for column {i}\\n\")\n",
    "    else:\n",
    "        print(f\"'0-60' is not the largest bin for column {i}. The largest bin is {bin_counts.idxmax()}\\n\")\n"
   ],
   "metadata": {
    "collapsed": false,
    "ExecuteTime": {
     "end_time": "2023-07-19T18:11:01.923119900Z",
     "start_time": "2023-07-19T18:11:01.877119Z"
    }
   }
  },
  {
   "cell_type": "code",
   "execution_count": 5,
   "outputs": [
    {
     "name": "stdout",
     "output_type": "stream",
     "text": [
      "Frechet processing: AB04KO\n",
      "Frechet processing: ab25fa\n",
      "Frechet processing: AL07ME\n",
      "Frechet processing: AL15MA\n",
      "Frechet processing: AN15PO\n",
      "Frechet processing: AU23KI\n",
      "Frechet processing: AU24FR\n",
      "Frechet processing: AV16ME\n",
      "Frechet processing: BE10AH\n",
      "Frechet processing: BI05IL\n",
      "Frechet processing: BR17CH\n",
      "Frechet processing: br19br\n",
      "Frechet processing: br19fr\n",
      "Frechet processing: BR20CO\n",
      "Frechet processing: BR21FR\n",
      "Frechet processing: BR22FA\n",
      "Frechet processing: ca16he\n",
      "Frechet processing: CH06ZA\n",
      "Frechet processing: ch12cr\n",
      "Frechet processing: CI13GA\n",
      "Frechet processing: CL26RO\n",
      "Frechet processing: DA17HA\n",
      "Frechet processing: EM21TA\n",
      "Frechet processing: EV23VA\n",
      "Frechet processing: gi01ca\n",
      "Frechet processing: GR25BE\n",
      "Frechet processing: HA05KO\n",
      "Frechet processing: HA25SH\n",
      "Frechet processing: HE29FI\n",
      "Frechet processing: IS04LI\n",
      "Frechet processing: JA13SI\n",
      "Frechet processing: JA21AC\n",
      "Frechet processing: Ji18Fe\n",
      "Frechet processing: jo21ho\n",
      "Frechet processing: JU04BA\n",
      "Frechet processing: KA15AN\n",
      "Frechet processing: KE17FI\n",
      "Frechet processing: LA27WA\n",
      "Frechet processing: le19he\n",
      "Frechet processing: le28ed\n",
      "Frechet processing: LU15CR\n",
      "Frechet processing: LU16WA\n",
      "Frechet processing: LU25MA\n",
      "Frechet processing: MA14BL\n",
      "Frechet processing: MA21SA\n",
      "Frechet processing: ma26pa\n",
      "Frechet processing: MI23GO\n",
      "Frechet processing: MO31OC\n",
      "Frechet processing: NI23DI\n",
      "Frechet processing: NO26TH\n",
      "Frechet processing: OL08JO\n",
      "Frechet processing: PA24MA\n",
      "Frechet processing: pi14me\n",
      "Frechet processing: RA16WO\n",
      "Frechet processing: RA28CH\n",
      "Frechet processing: RE19KA\n",
      "Frechet processing: SA10YA\n",
      "Frechet processing: SH01GU\n",
      "Frechet processing: SI14GA\n",
      "Frechet processing: SO12RI\n",
      "Frechet processing: su03ni\n",
      "Frechet processing: TA21CA\n",
      "Frechet processing: TA26FU\n",
      "Frechet processing: TA26LE\n",
      "Frechet processing: TE03ZA\n",
      "Frechet processing: TE25EL\n",
      "Frechet processing: TE30GO\n",
      "Frechet processing: TV10PA\n",
      "Frechet processing: VA17HA\n",
      "Frechet processing: VA25JI\n",
      "Frechet processing: XI03ME\n",
      "Frechet processing: XI31SH\n",
      "Frechet processing: YI11LI\n"
     ]
    }
   ],
   "source": [
    "# calculate Frechet Distances for each trajectory\n",
    "frechet_distances = movement_analyzer.calculate_frechet_for_all_subjects()"
   ],
   "metadata": {
    "ExecuteTime": {
     "start_time": "2023-05-30T16:00:57.792961Z",
     "end_time": "2023-05-30T16:01:19.094707Z"
    },
    "id": "n9yOYbBjl1H-",
    "executionInfo": {
     "status": "ok",
     "timestamp": 1685403184208,
     "user_tz": 420,
     "elapsed": 33924,
     "user": {
      "displayName": "Carol He",
      "userId": "14348936873790010342"
     }
    },
    "colab": {
     "base_uri": "https://localhost:8080/"
    },
    "outputId": "0e2dbe46-7df6-4170-dfbe-29e2f3b6c888"
   }
  },
  {
   "cell_type": "code",
   "execution_count": 6,
   "outputs": [],
   "source": [
    "frechet_table = pd.DataFrame.from_dict(frechet_distances).transpose()\n",
    "\n",
    "# assume your data is stored in a pandas DataFrame called df\n",
    "# with participant names as index and trial numbers as columns\n",
    "\n",
    "# define a function to check if the shortcut value is minimum among ('shortcut', 'shortcut_reversed', 'lean', 'topo')\n",
    "\n",
    "def is_shortest(col):\n",
    "    shortcuts = [col['learn'], col['learn_reversed'], col['shortcut'], col['topo']]\n",
    "    check = col['shortcut'] == min(shortcuts) and col['failure'] == 0\n",
    "    return check\n",
    "\n",
    "def process_each_subject(row):\n",
    "    return row.apply(is_shortest).sum()\n",
    "\n",
    "# use pandas' apply method to apply the is_shortest function to each row of the DataFrame\n",
    "# then use pandas' sum method to count the number of rows where failure == 0 and shortcut is the minimum value\n",
    "num_shortcut = frechet_table.apply(lambda row: row.apply(is_shortest).sum(), axis=1)\n",
    "\n",
    "# change the row indexing to a column\n",
    "num_shortcut = num_shortcut.reset_index()\n",
    "# change the only column name to 'solution_index'\n",
    "num_shortcut = num_shortcut.rename(columns={0:'num_shortcut','index':'subID'})"
   ],
   "metadata": {
    "ExecuteTime": {
     "start_time": "2023-05-30T16:01:23.181811Z",
     "end_time": "2023-05-30T16:01:23.193812Z"
    },
    "id": "P4XTsOWel1H-",
    "executionInfo": {
     "status": "ok",
     "timestamp": 1685403186355,
     "user_tz": 420,
     "elapsed": 180,
     "user": {
      "displayName": "Carol He",
      "userId": "14348936873790010342"
     }
    }
   }
  },
  {
   "cell_type": "code",
   "source": [
    "eff = pd.DataFrame.from_dict(efficiencies).transpose()\n",
    "eff = eff.reset_index().rename(columns = {'index':'subID'})\n",
    "sub_failure = pd.DataFrame(failures,index=[0]).transpose().reset_index().rename({'index':'subID',0:'num_failures'},axis=1)\n",
    "point_err = pd.DataFrame.from_dict(errors).transpose()\n",
    "point_err = point_err.reset_index().rename(columns = {'index':'subID'})\n",
    "eff['eff_avg'] = eff.iloc[:,1:].mean(axis=1)\n",
    "point_err['point_avg'] = point_err.iloc[:,1:].mean(axis=1)\n",
    "dsp_sub = eff[['subID','eff_avg']].merge(point_err[['subID','point_avg']],on='subID').merge(sub_failure,on='subID').merge(num_shortcut,on='subID')\n",
    "dsp_sub['solution_index'] = dsp_sub['num_shortcut']/(20-dsp_sub['num_failures'])\n",
    "dsp_sub"
   ],
   "metadata": {
    "id": "U_qV3e9CD_9u",
    "colab": {
     "base_uri": "https://localhost:8080/",
     "height": 423
    },
    "executionInfo": {
     "status": "ok",
     "timestamp": 1685403199954,
     "user_tz": 420,
     "elapsed": 202,
     "user": {
      "displayName": "Carol He",
      "userId": "14348936873790010342"
     }
    },
    "outputId": "85af3fcf-a8b1-4e2e-eff4-7a9eb73864a5",
    "ExecuteTime": {
     "start_time": "2023-05-30T16:01:24.513863Z",
     "end_time": "2023-05-30T16:01:24.545864Z"
    }
   },
   "execution_count": 7,
   "outputs": [
    {
     "data": {
      "text/plain": "     subID   eff_avg  point_avg  num_failures  num_shortcut  solution_index\n0   AB04KO  1.945944  66.202485             4             9        0.562500\n1   ab25fa  1.246909  19.929991             0            18        0.900000\n2   AL07ME  1.144492  26.662507             0            17        0.850000\n3   AL15MA  2.053032  70.339982             9             7        0.636364\n4   AN15PO  1.733405  40.245003             1            10        0.526316\n..     ...       ...        ...           ...           ...             ...\n68  VA17HA  1.833280  61.975002             3             6        0.352941\n69  VA25JI  1.224228  23.450032             0            16        0.800000\n70  XI03ME  1.843504  56.909992             5             8        0.533333\n71  XI31SH  1.353089  21.097493             1            15        0.789474\n72  YI11LI  1.685587  47.837499             2            11        0.611111\n\n[73 rows x 6 columns]",
      "text/html": "<div>\n<style scoped>\n    .dataframe tbody tr th:only-of-type {\n        vertical-align: middle;\n    }\n\n    .dataframe tbody tr th {\n        vertical-align: top;\n    }\n\n    .dataframe thead th {\n        text-align: right;\n    }\n</style>\n<table border=\"1\" class=\"dataframe\">\n  <thead>\n    <tr style=\"text-align: right;\">\n      <th></th>\n      <th>subID</th>\n      <th>eff_avg</th>\n      <th>point_avg</th>\n      <th>num_failures</th>\n      <th>num_shortcut</th>\n      <th>solution_index</th>\n    </tr>\n  </thead>\n  <tbody>\n    <tr>\n      <th>0</th>\n      <td>AB04KO</td>\n      <td>1.945944</td>\n      <td>66.202485</td>\n      <td>4</td>\n      <td>9</td>\n      <td>0.562500</td>\n    </tr>\n    <tr>\n      <th>1</th>\n      <td>ab25fa</td>\n      <td>1.246909</td>\n      <td>19.929991</td>\n      <td>0</td>\n      <td>18</td>\n      <td>0.900000</td>\n    </tr>\n    <tr>\n      <th>2</th>\n      <td>AL07ME</td>\n      <td>1.144492</td>\n      <td>26.662507</td>\n      <td>0</td>\n      <td>17</td>\n      <td>0.850000</td>\n    </tr>\n    <tr>\n      <th>3</th>\n      <td>AL15MA</td>\n      <td>2.053032</td>\n      <td>70.339982</td>\n      <td>9</td>\n      <td>7</td>\n      <td>0.636364</td>\n    </tr>\n    <tr>\n      <th>4</th>\n      <td>AN15PO</td>\n      <td>1.733405</td>\n      <td>40.245003</td>\n      <td>1</td>\n      <td>10</td>\n      <td>0.526316</td>\n    </tr>\n    <tr>\n      <th>...</th>\n      <td>...</td>\n      <td>...</td>\n      <td>...</td>\n      <td>...</td>\n      <td>...</td>\n      <td>...</td>\n    </tr>\n    <tr>\n      <th>68</th>\n      <td>VA17HA</td>\n      <td>1.833280</td>\n      <td>61.975002</td>\n      <td>3</td>\n      <td>6</td>\n      <td>0.352941</td>\n    </tr>\n    <tr>\n      <th>69</th>\n      <td>VA25JI</td>\n      <td>1.224228</td>\n      <td>23.450032</td>\n      <td>0</td>\n      <td>16</td>\n      <td>0.800000</td>\n    </tr>\n    <tr>\n      <th>70</th>\n      <td>XI03ME</td>\n      <td>1.843504</td>\n      <td>56.909992</td>\n      <td>5</td>\n      <td>8</td>\n      <td>0.533333</td>\n    </tr>\n    <tr>\n      <th>71</th>\n      <td>XI31SH</td>\n      <td>1.353089</td>\n      <td>21.097493</td>\n      <td>1</td>\n      <td>15</td>\n      <td>0.789474</td>\n    </tr>\n    <tr>\n      <th>72</th>\n      <td>YI11LI</td>\n      <td>1.685587</td>\n      <td>47.837499</td>\n      <td>2</td>\n      <td>11</td>\n      <td>0.611111</td>\n    </tr>\n  </tbody>\n</table>\n<p>73 rows × 6 columns</p>\n</div>"
     },
     "execution_count": 7,
     "metadata": {},
     "output_type": "execute_result"
    }
   ]
  },
  {
   "cell_type": "code",
   "source": [
    "dsp_sub.solution_index.hist()"
   ],
   "metadata": {
    "colab": {
     "base_uri": "https://localhost:8080/",
     "height": 447
    },
    "id": "65GtmGFxLlTm",
    "executionInfo": {
     "status": "ok",
     "timestamp": 1685403205057,
     "user_tz": 420,
     "elapsed": 454,
     "user": {
      "displayName": "Carol He",
      "userId": "14348936873790010342"
     }
    },
    "outputId": "caf01292-9674-4eac-ac0b-0bdff59dc3b3"
   },
   "execution_count": 12,
   "outputs": [
    {
     "output_type": "execute_result",
     "data": {
      "text/plain": [
       "<Axes: >"
      ]
     },
     "metadata": {},
     "execution_count": 12
    },
    {
     "output_type": "display_data",
     "data": {
      "text/plain": [
       "<Figure size 640x480 with 1 Axes>"
      ],
      "image/png": "[encoded data removed]"
     },
     "metadata": {}
    }
   ]
  },
  {
   "cell_type": "code",
   "source": [
    "dsp_sub.to_csv(\"dsp_sub_1.csv\",index=False)"
   ],
   "metadata": {
    "id": "ueS8dvzak1eQ",
    "ExecuteTime": {
     "start_time": "2023-05-30T16:01:35.880519Z",
     "end_time": "2023-05-30T16:01:35.888516Z"
    },
    "executionInfo": {
     "status": "ok",
     "timestamp": 1685403216616,
     "user_tz": 420,
     "elapsed": 959,
     "user": {
      "displayName": "Carol He",
      "userId": "14348936873790010342"
     }
    }
   },
   "execution_count": 8,
   "outputs": []
  },
  {
   "cell_type": "code",
   "source": [
    "import matplotlib.pyplot as plt\n",
    "import seaborn as sns\n",
    "sns.set_style(\"whitegrid\")\n",
    "sns.set_context(\"paper\", font_scale=1.8)\n",
    "g = sns.jointplot(data=dsp_sub, y=\"point_avg\", x=\"eff_avg\")\n",
    "g.ax_joint.set_ylabel('Point Error', fontweight='bold')\n",
    "g.ax_joint.set_xlabel('Travel Efficiency', fontweight='bold')\n",
    "g.ax_joint.plot([1,3], [90,90], 'r--', linewidth = 2)\n",
    "g.ax_joint.plot([2.55,2.55],[5,110] , 'r--', linewidth = 2)\n",
    "plt.show()"
   ],
   "metadata": {
    "colab": {
     "base_uri": "https://localhost:8080/",
     "height": 584
    },
    "id": "PTAaa4E07A2_",
    "executionInfo": {
     "status": "ok",
     "timestamp": 1685404366011,
     "user_tz": 420,
     "elapsed": 765,
     "user": {
      "displayName": "Carol He",
      "userId": "14348936873790010342"
     }
    },
    "outputId": "60d1efaa-e402-41eb-e2ee-6da14f2e14f7",
    "ExecuteTime": {
     "start_time": "2023-05-30T15:41:03.546383Z",
     "end_time": "2023-05-30T15:41:03.936381Z"
    }
   },
   "execution_count": 9,
   "outputs": [
    {
     "data": {
      "text/plain": "<Figure size 600x600 with 3 Axes>",
      "image/png": "[encoded data removed]"
     },
     "metadata": {},
     "output_type": "display_data"
    }
   ]
  },
  {
   "cell_type": "code",
   "source": [
    "movement_analyzer.export_distance_summary(\"distance_summary_1.csv\")"
   ],
   "metadata": {
    "id": "W0QlhqSxlTOa",
    "ExecuteTime": {
     "start_time": "2023-05-30T16:01:39.255710Z",
     "end_time": "2023-05-30T16:02:00.848826Z"
    },
    "executionInfo": {
     "status": "ok",
     "timestamp": 1685403250229,
     "user_tz": 420,
     "elapsed": 32503,
     "user": {
      "displayName": "Carol He",
      "userId": "14348936873790010342"
     }
    }
   },
   "execution_count": 9,
   "outputs": []
  },
  {
   "cell_type": "code",
   "source": [
    "movement_analyzer.export_processed_data_for_all_subjects(folder=\"processed_data_1\")"
   ],
   "metadata": {
    "id": "49sO_38opPeR",
    "ExecuteTime": {
     "start_time": "2023-05-30T16:02:04.244782Z",
     "end_time": "2023-05-30T16:02:04.568782Z"
    },
    "executionInfo": {
     "status": "ok",
     "timestamp": 1685403304423,
     "user_tz": 420,
     "elapsed": 48041,
     "user": {
      "displayName": "Carol He",
      "userId": "14348936873790010342"
     }
    }
   },
   "execution_count": 10,
   "outputs": []
  },
  {
   "cell_type": "code",
   "source": [
    "# can set up excluding\n",
    "movement_analyzer.plots_for_all_subjects(folder=\"path_plot_1\", save_only = True)"
   ],
   "metadata": {
    "id": "S8VkuojCozsM",
    "colab": {
     "base_uri": "https://localhost:8080/"
    },
    "outputId": "a28bd206-5a16-4e57-9f6f-12771530b402"
   },
   "execution_count": null,
   "outputs": []
  },
  {
   "cell_type": "code",
   "source": [
    "movement_analyzer.plot_all_topological_paths(folder=\"topo_plot_1\", save_only=True)"
   ],
   "metadata": {
    "id": "5euifA8gkwjQ",
    "ExecuteTime": {
     "start_time": "2023-05-30T16:02:18.949648Z",
     "end_time": "2023-05-30T16:02:26.076029Z"
    }
   },
   "execution_count": 12,
   "outputs": [
    {
     "data": {
      "text/plain": "<Figure size 480x480 with 1 Axes>",
      "image/png": "[encoded data removed]"
     },
     "metadata": {},
     "output_type": "display_data"
    }
   ]
  },
  {
   "cell_type": "code",
   "execution_count": null,
   "outputs": [],
   "source": [],
   "metadata": {
    "collapsed": false
   }
  }
 ],
 "metadata": {
  "colab": {
   "provenance": []
  },
  "kernelspec": {
   "display_name": "Python 3",
   "language": "python",
   "name": "python3"
  },
  "language_info": {
   "codemirror_mode": {
    "name": "ipython",
    "version": 2
   },
   "file_extension": ".py",
   "mimetype": "text/x-python",
   "name": "python",
   "nbconvert_exporter": "python",
   "pygments_lexer": "ipython2",
   "version": "2.7.6"
  }
 },
 "nbformat": 4,
 "nbformat_minor": 0
}
