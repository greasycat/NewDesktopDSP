{
 "cells": [
  {
   "cell_type": "code",
   "source": [
    "!pip install similaritymeasures"
   ],
   "metadata": {
    "colab": {
     "base_uri": "https://localhost:8080/"
    },
    "id": "L5fJ-UhrF0_D",
    "executionInfo": {
     "status": "ok",
     "timestamp": 1681925281926,
     "user_tz": 420,
     "elapsed": 16047,
     "user": {
      "displayName": "Carol He",
      "userId": "14348936873790010342"
     }
    },
    "outputId": "697600e2-cdf1-46ec-cafb-29367c031fda"
   },
   "execution_count": null,
   "outputs": [
    {
     "output_type": "stream",
     "name": "stdout",
     "text": [
      "Looking in indexes: https://pypi.org/simple, https://us-python.pkg.dev/colab-wheels/public/simple/\n",
      "Collecting similaritymeasures\n",
      "  Downloading similaritymeasures-0.7.0.tar.gz (401 kB)\n",
      "\u001B[2K     \u001B[90m━━━━━━━━━━━━━━━━━━━━━━━━━━━━━━━━━━━━━━━\u001B[0m \u001B[32m401.2/401.2 kB\u001B[0m \u001B[31m7.2 MB/s\u001B[0m eta \u001B[36m0:00:00\u001B[0m\n",
      "\u001B[?25h  Preparing metadata (setup.py) ... \u001B[?25l\u001B[?25hdone\n",
      "Requirement already satisfied: numpy>=1.14.0 in /usr/local/lib/python3.9/dist-packages (from similaritymeasures) (1.22.4)\n",
      "Requirement already satisfied: scipy>=0.19.0 in /usr/local/lib/python3.9/dist-packages (from similaritymeasures) (1.10.1)\n",
      "Building wheels for collected packages: similaritymeasures\n",
      "  Building wheel for similaritymeasures (setup.py) ... \u001B[?25l\u001B[?25hdone\n",
      "  Created wheel for similaritymeasures: filename=similaritymeasures-0.7.0-py3-none-any.whl size=15452 sha256=06f7cbd269e1ce004a98136d65f4ef9b2ebfdd1884021c89300c621e33aa9483\n",
      "  Stored in directory: /root/.cache/pip/wheels/ec/5a/ff/cb7b340273d1c9024c084633cc8f19b7684584182b05ae93d5\n",
      "Successfully built similaritymeasures\n",
      "Installing collected packages: similaritymeasures\n",
      "Successfully installed similaritymeasures-0.7.0\n"
     ]
    }
   ]
  },
  {
   "cell_type": "code",
   "source": [
    "from google.colab import drive\n",
    "drive.mount('/content/drive')"
   ],
   "metadata": {
    "colab": {
     "base_uri": "https://localhost:8080/"
    },
    "id": "J9RdLQVyC9F7",
    "executionInfo": {
     "status": "ok",
     "timestamp": 1682458342833,
     "user_tz": 420,
     "elapsed": 17104,
     "user": {
      "displayName": "Frederick Jin",
      "userId": "03347402619068453381"
     }
    },
    "outputId": "167fa25d-e19e-4c9d-d807-c0b32ceccc88"
   },
   "execution_count": 3,
   "outputs": [
    {
     "output_type": "stream",
     "name": "stdout",
     "text": [
      "Mounted at /content/drive\n"
     ]
    }
   ]
  },
  {
   "cell_type": "code",
   "source": [
    "cd /content/drive/MyDrive/NewDesktopDSP"
   ],
   "metadata": {
    "colab": {
     "base_uri": "https://localhost:8080/"
    },
    "id": "I1yhY71zDKAr",
    "executionInfo": {
     "status": "ok",
     "timestamp": 1682458427666,
     "user_tz": 420,
     "elapsed": 2,
     "user": {
      "displayName": "Frederick Jin",
      "userId": "03347402619068453381"
     }
    },
    "outputId": "2e265463-3bb2-43d5-c5bd-e31c229aae2d"
   },
   "execution_count": 12,
   "outputs": [
    {
     "output_type": "stream",
     "name": "stdout",
     "text": [
      "/content/drive/.shortcut-targets-by-id/1EgVS0IJfLItcsy3sZfzn4-1oxy0EVmyE/NewDesktopDSP\n"
     ]
    }
   ]
  },
  {
   "cell_type": "code",
   "source": [
    "from analysis import Loader\n",
    "from analysis import MovementAnalyzer, RotationAnalyzer\n",
    "import pandas as pd\n",
    "import numpy as np\n",
    "from analysis import ShortcutMap\n",
    "import random"
   ],
   "metadata": {
    "id": "21QzX3F7CwXV",
    "executionInfo": {
     "status": "ok",
     "timestamp": 1682458440353,
     "user_tz": 420,
     "elapsed": 3906,
     "user": {
      "displayName": "Frederick Jin",
      "userId": "03347402619068453381"
     }
    },
    "ExecuteTime": {
     "start_time": "2023-04-25T20:08:48.052066Z",
     "end_time": "2023-04-25T20:08:48.609572Z"
    }
   },
   "execution_count": 1,
   "outputs": []
  },
  {
   "cell_type": "code",
   "source": [
    "pd.set_option('display.max_column', 500)\n",
    "\n",
    "loader = Loader(data_dir=\"alldata\", extra_dir=\"extra\", image_dir=\"images\")\n",
    "loader.load(learning=True)\n",
    "\n",
    "shortcut_map = ShortcutMap(\"extra/new_walls.csv\", \"extra/objects.csv\", \"extra/new_shortcuts.csv\")\n",
    "learning_map = ShortcutMap(\"extra/learning_walls.csv\", \"extra/objects.csv\", \"extra/learning_shortcuts.csv\")"
   ],
   "metadata": {
    "colab": {
     "base_uri": "https://localhost:8080/"
    },
    "id": "LWPaufJbDSv3",
    "executionInfo": {
     "status": "ok",
     "timestamp": 1682458642739,
     "user_tz": 420,
     "elapsed": 800,
     "user": {
      "displayName": "Frederick Jin",
      "userId": "03347402619068453381"
     }
    },
    "outputId": "72de2710-aca6-4b63-b4f9-f609a53f43f6",
    "ExecuteTime": {
     "start_time": "2023-04-25T20:08:48.707661Z",
     "end_time": "2023-04-25T20:08:48.913848Z"
    }
   },
   "execution_count": 2,
   "outputs": [
    {
     "name": "stdout",
     "output_type": "stream",
     "text": [
      "ShortcutMap: Loaded 12 objects\n",
      "ShortcutMap: Loaded 12 objects\n"
     ]
    }
   ]
  },
  {
   "cell_type": "code",
   "source": [
    "# Currently the movement analyzer can only handle normal (not alternative) trials, will add that later this week\n",
    "movement_analyzer = MovementAnalyzer(loader, shortcut_map=shortcut_map, learning_map=learning_map)\n",
    "\n",
    "# rotation analyzer gives the absolute angular error for each trial (both normal and alternative)\n",
    "rotation_analyzer = RotationAnalyzer(loader)\n",
    "\n",
    "efficiencies = movement_analyzer.calculate_efficiency_for_all_subjects()\n",
    "#print(efficiencies)\n",
    "\n",
    "failures = movement_analyzer.calculate_failure_for_all_subjects()\n",
    "#print(failures)\n",
    "\n",
    "errors = rotation_analyzer.calculate_estimation_error_for_all_subjects(3,23)\n",
    "#print(errors)"
   ],
   "metadata": {
    "id": "wqzVQE94DYd5",
    "executionInfo": {
     "status": "ok",
     "timestamp": 1682458646350,
     "user_tz": 420,
     "elapsed": 695,
     "user": {
      "displayName": "Frederick Jin",
      "userId": "03347402619068453381"
     }
    },
    "ExecuteTime": {
     "start_time": "2023-04-25T20:08:51.750432Z",
     "end_time": "2023-04-25T20:08:51.890559Z"
    }
   },
   "execution_count": 3,
   "outputs": []
  },
  {
   "cell_type": "code",
   "execution_count": 4,
   "outputs": [],
   "source": [
    "frechet_distances = movement_analyzer.calculate_frechet_for_all_subjects()"
   ],
   "metadata": {
    "collapsed": false,
    "ExecuteTime": {
     "start_time": "2023-04-25T20:01:31.435743Z",
     "end_time": "2023-04-25T20:01:32.211447Z"
    }
   }
  },
  {
   "cell_type": "code",
   "execution_count": 5,
   "outputs": [
    {
     "data": {
      "text/plain": "    index  solution_index\n0  AB04KO             0.5\n1  JE02DE             0.4",
      "text/html": "<div>\n<style scoped>\n    .dataframe tbody tr th:only-of-type {\n        vertical-align: middle;\n    }\n\n    .dataframe tbody tr th {\n        vertical-align: top;\n    }\n\n    .dataframe thead th {\n        text-align: right;\n    }\n</style>\n<table border=\"1\" class=\"dataframe\">\n  <thead>\n    <tr style=\"text-align: right;\">\n      <th></th>\n      <th>index</th>\n      <th>solution_index</th>\n    </tr>\n  </thead>\n  <tbody>\n    <tr>\n      <th>0</th>\n      <td>AB04KO</td>\n      <td>0.5</td>\n    </tr>\n    <tr>\n      <th>1</th>\n      <td>JE02DE</td>\n      <td>0.4</td>\n    </tr>\n  </tbody>\n</table>\n</div>"
     },
     "execution_count": 5,
     "metadata": {},
     "output_type": "execute_result"
    }
   ],
   "source": [
    "frechet_table = pd.DataFrame.from_dict(frechet_distances).transpose()\n",
    "\n",
    "# assume your data is stored in a pandas DataFrame called df\n",
    "# with participant names as index and trial numbers as columns\n",
    "\n",
    "# define a function to check if the shortcut value is minimum among ('shortcut', 'shortcut_reversed', 'lean', 'topo')\n",
    "\n",
    "def is_shortest(col):\n",
    "    shortcuts = [col['shortcut'], col['shortcut_reversed'], col['learn'], col['topo']]\n",
    "    check = col['shortcut'] == min(shortcuts) and col['failure'] == 0\n",
    "    return check\n",
    "\n",
    "def process_each_subject(row):\n",
    "    return row.apply(is_shortest).sum()\n",
    "\n",
    "# use pandas' apply method to apply the is_shortest function to each row of the DataFrame\n",
    "# then use pandas' sum method to count the number of rows where failure == 0 and shortcut is the minimum value\n",
    "solution_index = frechet_table.apply(lambda row: row.apply(is_shortest).sum(), axis=1)/20\n",
    "\n",
    "# change the row indexing to a column\n",
    "solution_index = solution_index.reset_index()\n",
    "# change the only column name to 'solution_index'\n",
    "solution_index = solution_index.rename(columns={0:'solution_index'})\n",
    "solution_index"
   ],
   "metadata": {
    "collapsed": false,
    "ExecuteTime": {
     "start_time": "2023-04-25T20:01:36.510852Z",
     "end_time": "2023-04-25T20:01:36.527867Z"
    }
   }
  },
  {
   "cell_type": "code",
   "source": [
    "\n",
    "eff = pd.DataFrame.from_dict(efficiencies).transpose()\n",
    "eff = eff.reset_index().rename(columns = {'index':'subID'})\n",
    "sub_failure = pd.DataFrame(failures,index=[0]).transpose().reset_index().rename({'index':'subID',0:'num_failures'},axis=1)\n",
    "point_err = pd.DataFrame.from_dict(errors).transpose()\n",
    "point_err = point_err.reset_index().rename(columns = {'index':'subID'})\n",
    "eff['eff_avg'] = eff.iloc[:,1:].mean(axis=1)\n",
    "point_err['point_avg'] = point_err.iloc[:,1:].mean(axis=1)\n",
    "dsp_sub = eff[['subID','eff_avg']].merge(point_err[['subID','point_avg']],on='subID').merge(sub_failure,on='subID')\n",
    "dsp_sub"
   ],
   "metadata": {
    "id": "U_qV3e9CD_9u",
    "colab": {
     "base_uri": "https://localhost:8080/",
     "height": 424
    },
    "executionInfo": {
     "status": "ok",
     "timestamp": 1681929956419,
     "user_tz": 420,
     "elapsed": 252,
     "user": {
      "displayName": "Carol He",
      "userId": "14348936873790010342"
     }
    },
    "outputId": "bafd418d-4867-451d-bac8-5409634101de",
    "ExecuteTime": {
     "start_time": "2023-04-25T20:01:38.046244Z",
     "end_time": "2023-04-25T20:01:38.086280Z"
    }
   },
   "execution_count": 6,
   "outputs": [
    {
     "data": {
      "text/plain": "    subID   eff_avg  point_avg  num_failures\n0  AB04KO  1.809456  66.202485             4\n1  JE02DE  1.720813  49.897520             6",
      "text/html": "<div>\n<style scoped>\n    .dataframe tbody tr th:only-of-type {\n        vertical-align: middle;\n    }\n\n    .dataframe tbody tr th {\n        vertical-align: top;\n    }\n\n    .dataframe thead th {\n        text-align: right;\n    }\n</style>\n<table border=\"1\" class=\"dataframe\">\n  <thead>\n    <tr style=\"text-align: right;\">\n      <th></th>\n      <th>subID</th>\n      <th>eff_avg</th>\n      <th>point_avg</th>\n      <th>num_failures</th>\n    </tr>\n  </thead>\n  <tbody>\n    <tr>\n      <th>0</th>\n      <td>AB04KO</td>\n      <td>1.809456</td>\n      <td>66.202485</td>\n      <td>4</td>\n    </tr>\n    <tr>\n      <th>1</th>\n      <td>JE02DE</td>\n      <td>1.720813</td>\n      <td>49.897520</td>\n      <td>6</td>\n    </tr>\n  </tbody>\n</table>\n</div>"
     },
     "execution_count": 6,
     "metadata": {},
     "output_type": "execute_result"
    }
   ]
  },
  {
   "cell_type": "code",
   "execution_count": 7,
   "outputs": [
    {
     "data": {
      "text/plain": "    subID   eff_avg  point_avg  num_failures  solution_index\n0  AB04KO  1.809456  66.202485             4             0.5\n1  JE02DE  1.720813  49.897520             6             0.4",
      "text/html": "<div>\n<style scoped>\n    .dataframe tbody tr th:only-of-type {\n        vertical-align: middle;\n    }\n\n    .dataframe tbody tr th {\n        vertical-align: top;\n    }\n\n    .dataframe thead th {\n        text-align: right;\n    }\n</style>\n<table border=\"1\" class=\"dataframe\">\n  <thead>\n    <tr style=\"text-align: right;\">\n      <th></th>\n      <th>subID</th>\n      <th>eff_avg</th>\n      <th>point_avg</th>\n      <th>num_failures</th>\n      <th>solution_index</th>\n    </tr>\n  </thead>\n  <tbody>\n    <tr>\n      <th>0</th>\n      <td>AB04KO</td>\n      <td>1.809456</td>\n      <td>66.202485</td>\n      <td>4</td>\n      <td>0.5</td>\n    </tr>\n    <tr>\n      <th>1</th>\n      <td>JE02DE</td>\n      <td>1.720813</td>\n      <td>49.897520</td>\n      <td>6</td>\n      <td>0.4</td>\n    </tr>\n  </tbody>\n</table>\n</div>"
     },
     "execution_count": 7,
     "metadata": {},
     "output_type": "execute_result"
    }
   ],
   "source": [
    "# merge solution_index with dsp_sub using column 'subID' in dsp_sub and 'index' in frechet_table but do not keep the index column in frechet_table\n",
    "dsp_sub = dsp_sub.merge(solution_index, left_on='subID', right_on='index').drop('index', axis=1)\n",
    "dsp_sub"
   ],
   "metadata": {
    "collapsed": false,
    "ExecuteTime": {
     "start_time": "2023-04-25T20:01:41.988325Z",
     "end_time": "2023-04-25T20:01:42.001337Z"
    }
   }
  },
  {
   "cell_type": "code",
   "source": [
    "dsp_sub.to_csv(\"dsp_sub.csv\",index=False)"
   ],
   "metadata": {
    "id": "ueS8dvzak1eQ",
    "ExecuteTime": {
     "start_time": "2023-04-25T20:02:01.447481Z",
     "end_time": "2023-04-25T20:02:01.461510Z"
    }
   },
   "execution_count": 8,
   "outputs": []
  },
  {
   "cell_type": "code",
   "source": [
    "movement_analyzer.export_distance_summary()"
   ],
   "metadata": {
    "id": "W0QlhqSxlTOa",
    "ExecuteTime": {
     "start_time": "2023-04-25T20:02:20.264089Z",
     "end_time": "2023-04-25T20:02:20.870639Z"
    }
   },
   "execution_count": 10,
   "outputs": []
  },
  {
   "cell_type": "code",
   "source": [
    "movement_analyzer.export_processed_data_for_all_subjects()"
   ],
   "metadata": {
    "id": "49sO_38opPeR",
    "ExecuteTime": {
     "start_time": "2023-04-25T20:02:24.295755Z",
     "end_time": "2023-04-25T20:02:24.326783Z"
    }
   },
   "execution_count": 11,
   "outputs": []
  },
  {
   "cell_type": "code",
   "source": [
    "movement_analyzer.plot_all_topological_paths(folder=\"topo_plot\", save_only=True)"
   ],
   "metadata": {
    "colab": {
     "base_uri": "https://localhost:8080/",
     "height": 0
    },
    "id": "5euifA8gkwjQ",
    "outputId": "98e43d29-303c-4c12-b7b9-cdebd04c883d",
    "executionInfo": {
     "status": "ok",
     "timestamp": 1682458776067,
     "user_tz": 420,
     "elapsed": 124664,
     "user": {
      "displayName": "Frederick Jin",
      "userId": "03347402619068453381"
     }
    },
    "ExecuteTime": {
     "start_time": "2023-04-25T20:10:10.126679Z",
     "end_time": "2023-04-25T20:10:17.244135Z"
    }
   },
   "execution_count": 7,
   "outputs": [
    {
     "data": {
      "text/plain": "<Figure size 480x480 with 1 Axes>",
      "image/png": "[encoded data removed]"
     },
     "metadata": {},
     "output_type": "display_data"
    }
   ]
  }
 ],
 "metadata": {
  "colab": {
   "provenance": []
  },
  "kernelspec": {
   "display_name": "Python 3",
   "language": "python",
   "name": "python3"
  },
  "language_info": {
   "codemirror_mode": {
    "name": "ipython",
    "version": 2
   },
   "file_extension": ".py",
   "mimetype": "text/x-python",
   "name": "python",
   "nbconvert_exporter": "python",
   "pygments_lexer": "ipython2",
   "version": "2.7.6"
  }
 },
 "nbformat": 4,
 "nbformat_minor": 0
}
